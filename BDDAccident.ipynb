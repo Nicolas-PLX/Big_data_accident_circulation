{
 "cells": [
  {
   "cell_type": "markdown",
   "id": "462ab954-f8c3-441b-bb37-890f9eb60b67",
   "metadata": {},
   "source": [
    "### DEVOIR 1"
   ]
  },
  {
   "cell_type": "code",
   "execution_count": 15,
   "id": "68ee63e8-8b85-40ba-bdb4-6fa5cd899526",
   "metadata": {},
   "outputs": [
    {
     "name": "stdout",
     "output_type": "stream",
     "text": [
      "Téléchargement du fichierusagers-2022 terminé.\n",
      "Téléchargement du fichiervehicules-2022 terminé.\n",
      "Téléchargement du fichierlieux-2022) terminé.\n",
      "Téléchargement du fichiercaracteristiques-2022 terminé.\n",
      "Téléchargement du fichierusagers-2021 terminé.\n",
      "Téléchargement du fichiervehicules-2021 terminé.\n",
      "Téléchargement du fichierlieux-2021 terminé.\n",
      "Téléchargement du fichiercaracteristiques-2021 terminé.\n"
     ]
    }
   ],
   "source": [
    "import os\n",
    "import requests\n",
    "\n",
    "# Créer le répertoire \"data\" s'il n'existe pas\n",
    "if not os.path.exists(\"data\"):\n",
    "    os.makedirs(\"data\")\n",
    "\n",
    "\n",
    "\n",
    "\n",
    "# Liste des URLs des fichiers à télécharger pour les années 2021 et 2022\n",
    "files = [  \n",
    "    (\"https://www.data.gouv.fr/fr/datasets/r/62c20524-d442-46f5-bfd8-982c59763ec8\", \"usagers-2022\"),\n",
    "    (\"https://www.data.gouv.fr/fr/datasets/r/c9742921-4427-41e5-81bc-f13af8bc31a0\", \"vehicules-2022\"),\n",
    "    (\"https://www.data.gouv.fr/fr/datasets/r/a6ef711a-1f03-44cb-921a-0ce8ec975995\",\"lieux-2022\"),\n",
    "    (\"https://www.data.gouv.fr/fr/datasets/r/5fc299c0-4598-4c29-b74c-6a67b0cc27e7\",\"caracteristiques-2022\"),\n",
    "    (\"https://www.data.gouv.fr/fr/datasets/r/ba5a1956-7e82-41b7-a602-89d7dd484d7a\",\"usagers-2021\"),\n",
    "    (\"https://www.data.gouv.fr/fr/datasets/r/0bb5953a-25d8-46f8-8c25-b5c2f5ba905e\",\"vehicules-2021\"),\n",
    "    (\"https://www.data.gouv.fr/fr/datasets/r/8a4935aa-38cd-43af-bf10-0209d6d17434\",\"lieux-2021\"),\n",
    "    (\"https://www.data.gouv.fr/fr/datasets/r/85cfdc0c-23e4-4674-9bcd-79a970d7269b\",\"caracteristiques-2021\"),\n",
    "]\n",
    "\n",
    "# Téléchargements\n",
    "for url, name in files:\n",
    "    response = requests.get(url)\n",
    "    # Vérifier que le téléchargement s'est bien passé\n",
    "    if response.status_code == 200:\n",
    "        # Écrire le contenu du fichier dans le répertoire \"data\"\n",
    "        with open(\"data/\" + name + \".csv\", \"wb\") as f:\n",
    "            f.write(response.content)\n",
    "            print(\"Téléchargement du fichier\" + name + \" terminé.\")\n",
    "    else:\n",
    "        print(response.status_code)\n",
    "        print(f\"Erreur lors du téléchargement du fichier \" + name)\n",
    "\n"
   ]
  },
  {
   "cell_type": "code",
   "execution_count": 16,
   "id": "d2f70186-9d1a-4062-a143-25d238f553f8",
   "metadata": {},
   "outputs": [
    {
     "name": "stdout",
     "output_type": "stream",
     "text": [
      "[('https://www.data.gouv.fr/fr/datasets/r/62c20524-d442-46f5-bfd8-982c59763ec8', 'usagers-2022'), ('https://www.data.gouv.fr/fr/datasets/r/c9742921-4427-41e5-81bc-f13af8bc31a0', 'vehicules-2022'), ('https://www.data.gouv.fr/fr/datasets/r/a6ef711a-1f03-44cb-921a-0ce8ec975995', 'lieux-2022)'), ('https://www.data.gouv.fr/fr/datasets/r/5fc299c0-4598-4c29-b74c-6a67b0cc27e7', 'caracteristiques-2022'), ('https://www.data.gouv.fr/fr/datasets/r/ba5a1956-7e82-41b7-a602-89d7dd484d7a', 'usagers-2021'), ('https://www.data.gouv.fr/fr/datasets/r/0bb5953a-25d8-46f8-8c25-b5c2f5ba905e', 'vehicules-2021'), ('https://www.data.gouv.fr/fr/datasets/r/8a4935aa-38cd-43af-bf10-0209d6d17434', 'lieux-2021'), ('https://www.data.gouv.fr/fr/datasets/r/85cfdc0c-23e4-4674-9bcd-79a970d7269b', 'caracteristiques-2021')]\n"
     ]
    }
   ],
   "source": []
  },
  {
   "cell_type": "code",
   "execution_count": null,
   "id": "8cb5bdd8-0ee4-46fb-9f7d-680284634004",
   "metadata": {},
   "outputs": [],
   "source": []
  }
 ],
 "metadata": {
  "kernelspec": {
   "display_name": "Python 3 (ipykernel)",
   "language": "python",
   "name": "python3"
  },
  "language_info": {
   "codemirror_mode": {
    "name": "ipython",
    "version": 3
   },
   "file_extension": ".py",
   "mimetype": "text/x-python",
   "name": "python",
   "nbconvert_exporter": "python",
   "pygments_lexer": "ipython3",
   "version": "3.11.8"
  }
 },
 "nbformat": 4,
 "nbformat_minor": 5
}
